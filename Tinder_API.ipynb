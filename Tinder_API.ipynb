{
 "cells": [
  {
   "cell_type": "code",
   "execution_count": 1,
   "metadata": {},
   "outputs": [],
   "source": [
    "#importing the necessary libraries\n",
    "import firebase_admin\n",
    "from firebase_admin import auth,firestore,storage,credentials"
   ]
  },
  {
   "cell_type": "code",
   "execution_count": 2,
   "metadata": {},
   "outputs": [
    {
     "data": {
      "text/plain": [
       "<firebase_admin.App at 0x1806cf7bf10>"
      ]
     },
     "execution_count": 2,
     "metadata": {},
     "output_type": "execute_result"
    }
   ],
   "source": [
    "#initialising the credentials\n",
    "cred = credentials.Certificate(\"tinder-api-307fa-firebase-adminsdk-12d8z-48329730a7.json\")\n",
    "# Initialize the app with a service account, granting admin privileges\n",
    "firebase_admin.initialize_app(cred)"
   ]
  },
  {
   "cell_type": "code",
   "execution_count": 3,
   "metadata": {},
   "outputs": [],
   "source": [
    "store=firestore.client()"
   ]
  },
  {
   "cell_type": "code",
   "execution_count": 4,
   "metadata": {},
   "outputs": [],
   "source": [
    "#creating new user\n",
    "def signUp(email_id,passwd):\n",
    "    uid=\"\"\n",
    "    message=\"\"\n",
    "    try:\n",
    "        user = auth.create_user(\n",
    "        email=email_id,\n",
    "        email_verified=False,\n",
    "        password=passwd,\n",
    "        disabled=False)\n",
    "        uid=user.uid\n",
    "        message=\"Sucessfully created new user:\"\n",
    "    except:\n",
    "        message='User Already Exists'\n",
    "    return {'Message':message,\"UserID\":uid}"
   ]
  },
  {
   "cell_type": "code",
   "execution_count": 5,
   "metadata": {},
   "outputs": [
    {
     "data": {
      "text/plain": [
       "{'Message': 'User Already Exists', 'UserID': ''}"
      ]
     },
     "execution_count": 5,
     "metadata": {},
     "output_type": "execute_result"
    }
   ],
   "source": [
    "#SignUp \n",
    "email_id='ansar326629@gmail.com'\n",
    "passwd='123456'\n",
    "\n",
    "signUp(email_id,passwd)"
   ]
  },
  {
   "cell_type": "code",
   "execution_count": 6,
   "metadata": {},
   "outputs": [],
   "source": [
    "# Login in with userid\n",
    "def login(email_id,passwd):\n",
    "    uid=\"\"\n",
    "    message=\"\"\n",
    "    try:\n",
    "        user = auth.get_user_by_email(email_id)\n",
    "        uid=user.uid\n",
    "        message=\"Succesfully login !!!\"\n",
    "    except:\n",
    "        message=\"Email does not exist !!!\"\n",
    "    return {\"Message\":message,\"Userid\":uid}"
   ]
  },
  {
   "cell_type": "code",
   "execution_count": 7,
   "metadata": {},
   "outputs": [
    {
     "data": {
      "text/plain": [
       "{'Message': 'Succesfully login !!!', 'Userid': 'aM7Ag4lfZuU0T5IR1fVViCiqOXx2'}"
      ]
     },
     "execution_count": 7,
     "metadata": {},
     "output_type": "execute_result"
    }
   ],
   "source": [
    "#Login\n",
    "login(email_id,passwd)"
   ]
  },
  {
   "cell_type": "code",
   "execution_count": 8,
   "metadata": {},
   "outputs": [],
   "source": [
    "#Updating user data\n",
    "def update_user_data(uid,user_data):\n",
    "    user_details={}\n",
    "    user_details['name']=user_data['name']\n",
    "    user_details['phone_number']=user_data['phone_number']\n",
    "    user_details['image']=user_data['image']\n",
    "    user_details['desp']=user_data['desp']\n",
    "    user_details['location']=user_data['location']\n",
    "    user_details['dob']=user_data['dob']\n",
    "    user_details['gender']=user_data['gender']\n",
    "    user_details['passion']=user_data['passion']\n",
    "    user_details['job']=user_data['job']\n",
    "    user_details['company']=user_data['company']\n",
    "    user_details['Created At']=firestore.SERVER_TIMESTAMP\n",
    "    store.collection(\"Users\").document(uid).set(user_details)\n",
    "    "
   ]
  },
  {
   "cell_type": "code",
   "execution_count": 9,
   "metadata": {},
   "outputs": [],
   "source": [
    "#Getting User data \n",
    "user_data={}\n",
    "user_data['name']=\"Ansari Mohd Ali\"\n",
    "user_data['phone_number']=\"09876543219\"\n",
    "user_data['image']=\"https://firebasestorage.googleapis.com/v0/b/tinder-api-307fa.appspot.com/o/photo_1.jpg?alt=media&token=0f9728b7-d4a3-4517-baa3-447edb9fbcac\"\n",
    "user_data['desp']=\"Looking for friends\"\n",
    "user_data['location']={\n",
    "    'coordinate':{'lat':19.1868,'lat':72.9545},\n",
    "    'country':\"India\",\n",
    "    'state':\"Maharashtra\",\n",
    "    'city':\"Thane\"\n",
    "}\n",
    "user_data['dob']=\"10/05/1997\"\n",
    "user_data['gender']=\"male\"\n",
    "user_data['passion']=\"Reading, Writing, Cycling\"\n",
    "user_data['job']=\"Student\"\n",
    "user_data['company']=\"Somewhere in Thane\""
   ]
  },
  {
   "cell_type": "code",
   "execution_count": 10,
   "metadata": {},
   "outputs": [],
   "source": [
    "update_user_data(\"aM7Ag4lfZuU0T5IR1fVViCiqOXx2\",user_data)"
   ]
  },
  {
   "cell_type": "code",
   "execution_count": null,
   "metadata": {},
   "outputs": [],
   "source": []
  },
  {
   "cell_type": "code",
   "execution_count": null,
   "metadata": {},
   "outputs": [],
   "source": []
  },
  {
   "cell_type": "code",
   "execution_count": null,
   "metadata": {},
   "outputs": [],
   "source": []
  },
  {
   "cell_type": "code",
   "execution_count": 11,
   "metadata": {},
   "outputs": [],
   "source": [
    "#for swipe\n",
    "def swipe(userid_A,userid_B,is_right,is_left):\n",
    "    result={}\n",
    "    result['uid_a']=userid_A\n",
    "    result['uid_b']=userid_B\n",
    "    result['is_right']=is_right\n",
    "    result['is_left']=is_left\n",
    "    store.collection('Swipes').document(userid_A).set(result)"
   ]
  },
  {
   "cell_type": "code",
   "execution_count": 12,
   "metadata": {},
   "outputs": [],
   "source": [
    "userid_A=\"aM7Ag4lfZuU0T5IR1fVViCiqOXx2\"\n",
    "userid_B=\"gT9W5jX0r9apcItvBeove9NaMxw2\"\n",
    "is_right=True\n",
    "is_left=False\n",
    "swipe(userid_A,userid_B,is_right,is_left)"
   ]
  },
  {
   "cell_type": "code",
   "execution_count": 13,
   "metadata": {},
   "outputs": [],
   "source": [
    "userid_B=\"aM7Ag4lfZuU0T5IR1fVViCiqOXx2\"\n",
    "userid_A=\"gT9W5jX0r9apcItvBeove9NaMxw2\"\n",
    "is_right=True\n",
    "is_left=False\n",
    "swipe(userid_A,userid_B,is_right,is_left)"
   ]
  },
  {
   "cell_type": "code",
   "execution_count": 14,
   "metadata": {},
   "outputs": [],
   "source": [
    "#getting match\n",
    "def match(userid_A,userid_B,is_right,is_left):\n",
    "    result={}\n",
    "    docs=store.collection('Swipes').stream()\n",
    "    for doc in docs:\n",
    "        if (userid_A in doc.id or userid_B in doc.id) and (doc.to_dict().get('is_right')):\n",
    "            result['uid_a']=userid_A\n",
    "            result['uid_b']=userid_B\n",
    "            result['Matched']=True\n",
    "            store.collection('Matched').document('Yes').set(result)\n",
    "            return 'Congratulations !!! you both matched'\n",
    "        else:\n",
    "            result['uid_a']=userid_A\n",
    "            result['uid_b']=userid_B\n",
    "            result['Matched']=False\n",
    "            store.collection('Matched').document('No').set(result)\n",
    "            return \n",
    "    "
   ]
  },
  {
   "cell_type": "code",
   "execution_count": 15,
   "metadata": {},
   "outputs": [
    {
     "data": {
      "text/plain": [
       "'Congratulations !!! you both matched'"
      ]
     },
     "execution_count": 15,
     "metadata": {},
     "output_type": "execute_result"
    }
   ],
   "source": [
    "match(userid_A,userid_B,is_right,is_left)"
   ]
  },
  {
   "cell_type": "code",
   "execution_count": 16,
   "metadata": {},
   "outputs": [],
   "source": [
    "#getting feed based on city\n",
    "def get_feed(uid,city,gender):\n",
    "    docs=store.collection('Users').where(\"gender\",\"==\",gender).stream()\n",
    "    swipes=store.collection('Swipes').stream()\n",
    "    visited=[]\n",
    "    for swipe in swipes:\n",
    "        if (swipe.to_dict().get('uid_a')==uid):\n",
    "            visited.append(swipe.to_dict().get('uid_b'))\n",
    "    result={}\n",
    "    #if person is not visited once\n",
    "    for doc in docs:\n",
    "        if (doc.id not in visited) and (doc.to_dict().get('location').get('city')==city):\n",
    "            result[doc.id]=doc.to_dict()\n",
    "    return result"
   ]
  },
  {
   "cell_type": "code",
   "execution_count": 20,
   "metadata": {},
   "outputs": [
    {
     "data": {
      "text/plain": [
       "{'aM7Ag4lfZuU0T5IR1fVViCiqOXx2': {'Created At': DatetimeWithNanoseconds(2021, 3, 23, 13, 20, 54, 712000, tzinfo=<UTC>),\n",
       "  'image': 'https://firebasestorage.googleapis.com/v0/b/tinder-api-307fa.appspot.com/o/photo_1.jpg?alt=media&token=0f9728b7-d4a3-4517-baa3-447edb9fbcac',\n",
       "  'dob': '10/05/1997',\n",
       "  'desp': 'Looking for friends',\n",
       "  'passion': 'Reading, Writing, Cycling',\n",
       "  'phone_number': '09876543219',\n",
       "  'gender': 'male',\n",
       "  'location': {'coordinate': {'lat': 72.9545},\n",
       "   'state': 'Maharashtra',\n",
       "   'country': 'India',\n",
       "   'city': 'Thane'},\n",
       "  'company': 'Somewhere in Thane',\n",
       "  'job': 'Student',\n",
       "  'name': 'Ansari Mohd Ali'}}"
      ]
     },
     "execution_count": 20,
     "metadata": {},
     "output_type": "execute_result"
    }
   ],
   "source": [
    "result=get_feed('DjJgiLqiFSRpiMOLbPfRMwqYUvi1','Thane','male')\n",
    "result"
   ]
  },
  {
   "cell_type": "code",
   "execution_count": 19,
   "metadata": {},
   "outputs": [],
   "source": [
    "#1.46.23"
   ]
  }
 ],
 "metadata": {
  "kernelspec": {
   "display_name": "Python 3",
   "language": "python",
   "name": "python3"
  },
  "language_info": {
   "codemirror_mode": {
    "name": "ipython",
    "version": 3
   },
   "file_extension": ".py",
   "mimetype": "text/x-python",
   "name": "python",
   "nbconvert_exporter": "python",
   "pygments_lexer": "ipython3",
   "version": "3.8.5"
  }
 },
 "nbformat": 4,
 "nbformat_minor": 4
}
