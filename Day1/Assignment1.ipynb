{
 "cells": [
  {
   "cell_type": "markdown",
   "metadata": {},
   "source": [
    "# Day1-Assignment 1"
   ]
  },
  {
   "cell_type": "code",
   "execution_count": 1,
   "metadata": {},
   "outputs": [],
   "source": [
    "word='RAINBOW'"
   ]
  },
  {
   "cell_type": "code",
   "execution_count": 2,
   "metadata": {},
   "outputs": [
    {
     "name": "stdout",
     "output_type": "stream",
     "text": [
      "Given Jumbled Word,guess the correct English word\n",
      "OBANWRI\n",
      "rainbow\n",
      "yes,you correct the right word\n"
     ]
    }
   ],
   "source": [
    "print('Given Jumbled Word,guess the correct English word\\nOBANWRI')\n",
    "guess=input()\n",
    "if word.lower()==guess.lower():\n",
    "    print('yes,you correct the right word')\n",
    "else:\n",
    "    print('wrong answer')"
   ]
  }
 ],
 "metadata": {
  "kernelspec": {
   "display_name": "Python 3",
   "language": "python",
   "name": "python3"
  },
  "language_info": {
   "codemirror_mode": {
    "name": "ipython",
    "version": 3
   },
   "file_extension": ".py",
   "mimetype": "text/x-python",
   "name": "python",
   "nbconvert_exporter": "python",
   "pygments_lexer": "ipython3",
   "version": "3.8.5"
  }
 },
 "nbformat": 4,
 "nbformat_minor": 4
}
