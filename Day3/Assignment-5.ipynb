{
 "cells": [
  {
   "cell_type": "markdown",
   "metadata": {},
   "source": [
    "# Day-3 Assignment 5"
   ]
  },
  {
   "cell_type": "code",
   "execution_count": 1,
   "metadata": {},
   "outputs": [],
   "source": [
    "import numpy as np"
   ]
  },
  {
   "cell_type": "code",
   "execution_count": 2,
   "metadata": {},
   "outputs": [
    {
     "name": "stdout",
     "output_type": "stream",
     "text": [
      "Using hstack(): [ 4  9 16 25 36 49 64 81]\n",
      "Using vstack(): [[ 4  9 16 25]\n",
      " [36 49 64 81]]\n"
     ]
    }
   ],
   "source": [
    "arr1=np.array([2,3,4,5])\n",
    "arr2=np.array([6,7,8,9])\n",
    "\n",
    "#doing the square of arrays\n",
    "square_arr1=np.square(arr1) \n",
    "square_arr2=np.square(arr2)\n",
    "\n",
    "# 1)Horizontal Stack for horizontally append-hstack()\n",
    "hor_arr=np.hstack((square_arr1,square_arr2))\n",
    "print('Using hstack():',hor_arr)\n",
    "\n",
    "# 1)Vertical Stack for vertically append-vstack()\n",
    "vert_arr=np.vstack((square_arr1,square_arr2))\n",
    "print('Using vstack():',vert_arr)"
   ]
  }
 ],
 "metadata": {
  "kernelspec": {
   "display_name": "Python 3",
   "language": "python",
   "name": "python3"
  },
  "language_info": {
   "codemirror_mode": {
    "name": "ipython",
    "version": 3
   },
   "file_extension": ".py",
   "mimetype": "text/x-python",
   "name": "python",
   "nbconvert_exporter": "python",
   "pygments_lexer": "ipython3",
   "version": "3.8.5"
  },
  "varInspector": {
   "cols": {
    "lenName": 16,
    "lenType": 16,
    "lenVar": 40
   },
   "kernels_config": {
    "python": {
     "delete_cmd_postfix": "",
     "delete_cmd_prefix": "del ",
     "library": "var_list.py",
     "varRefreshCmd": "print(var_dic_list())"
    },
    "r": {
     "delete_cmd_postfix": ") ",
     "delete_cmd_prefix": "rm(",
     "library": "var_list.r",
     "varRefreshCmd": "cat(var_dic_list()) "
    }
   },
   "types_to_exclude": [
    "module",
    "function",
    "builtin_function_or_method",
    "instance",
    "_Feature"
   ],
   "window_display": false
  }
 },
 "nbformat": 4,
 "nbformat_minor": 4
}
