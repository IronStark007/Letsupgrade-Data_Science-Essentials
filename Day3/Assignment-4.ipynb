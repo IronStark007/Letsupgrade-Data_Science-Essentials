{
 "cells": [
  {
   "cell_type": "markdown",
   "metadata": {},
   "source": [
    "# Day-3 Assignment 4"
   ]
  },
  {
   "cell_type": "markdown",
   "metadata": {},
   "source": [
    "To change the dimensions of np array there is two Method, namely\n",
    "\n",
    "1)np.newaxis\n",
    "\n",
    "2)np.expand-dims()"
   ]
  },
  {
   "cell_type": "markdown",
   "metadata": {},
   "source": [
    "Method-1:\n",
    "\n",
    "To change the dimesion using np.newaxis,we have to add np.newaxis in the old np array in a list type manner where each np.newaxis correnponds to one element i.e. 1 more dimensions in a np array\n",
    "\n",
    "It can be added n number of times to change n times dimensions of a np array\n",
    "\n",
    "For example-\n",
    "\n",
    "new_arr=arr[np.newaxis,...,np.newaxis]"
   ]
  },
  {
   "cell_type": "code",
   "execution_count": 1,
   "metadata": {},
   "outputs": [],
   "source": [
    "import numpy as np"
   ]
  },
  {
   "cell_type": "code",
   "execution_count": 2,
   "metadata": {},
   "outputs": [
    {
     "name": "stdout",
     "output_type": "stream",
     "text": [
      "(4,)\n",
      "(1, 4, 1)\n"
     ]
    }
   ],
   "source": [
    "arr=np.array([1,2,3,4])\n",
    "print(arr.shape) # 1D-array\n",
    "\n",
    "# changing 1D array to 3D-array\n",
    "new_arr=arr[np.newaxis,...,np.newaxis]\n",
    "print(new_arr.shape) #3D-array"
   ]
  },
  {
   "cell_type": "markdown",
   "metadata": {},
   "source": [
    "Method 2-\n",
    "\n",
    "To change the dimensions of np array,we can use np.exapand-dims(a,axis)\n",
    "\n",
    "Where,\n",
    "    a=old np array\n",
    "    \n",
    "    axis=0 for row \n",
    "    \n",
    "         1 for column\n",
    "         \n",
    "         and a tuple of (x,y,z)\n",
    "         \n",
    "         where,\n",
    "         \n",
    "              x=x_axis\n",
    "              \n",
    "              y=y_axis\n",
    "              \n",
    "              z=z_axis"
   ]
  },
  {
   "cell_type": "code",
   "execution_count": 3,
   "metadata": {},
   "outputs": [
    {
     "name": "stdout",
     "output_type": "stream",
     "text": [
      "(4,)\n",
      "(3, 1)\n",
      "(3, 1, 1, 1, 1)\n"
     ]
    }
   ],
   "source": [
    "arr1=np.array([3,4,5])\n",
    "print(arr.shape) #1D-array\n",
    "\n",
    "# changing 1D-array to 3D-array\n",
    "new_arr1=np.expand_dims(arr1,axis=1)\n",
    "print(new_arr1.shape) #2D-array\n",
    "\n",
    "# we can also pass a tuple of axis\n",
    "axis=(1,3,-1)\n",
    "new_arr2=np.expand_dims(new_arr1,axis=axis)\n",
    "print(new_arr2.shape) #5D-array"
   ]
  }
 ],
 "metadata": {
  "kernelspec": {
   "display_name": "Python 3",
   "language": "python",
   "name": "python3"
  },
  "language_info": {
   "codemirror_mode": {
    "name": "ipython",
    "version": 3
   },
   "file_extension": ".py",
   "mimetype": "text/x-python",
   "name": "python",
   "nbconvert_exporter": "python",
   "pygments_lexer": "ipython3",
   "version": "3.8.5"
  },
  "varInspector": {
   "cols": {
    "lenName": 16,
    "lenType": 16,
    "lenVar": 40
   },
   "kernels_config": {
    "python": {
     "delete_cmd_postfix": "",
     "delete_cmd_prefix": "del ",
     "library": "var_list.py",
     "varRefreshCmd": "print(var_dic_list())"
    },
    "r": {
     "delete_cmd_postfix": ") ",
     "delete_cmd_prefix": "rm(",
     "library": "var_list.r",
     "varRefreshCmd": "cat(var_dic_list()) "
    }
   },
   "types_to_exclude": [
    "module",
    "function",
    "builtin_function_or_method",
    "instance",
    "_Feature"
   ],
   "window_display": false
  }
 },
 "nbformat": 4,
 "nbformat_minor": 4
}
