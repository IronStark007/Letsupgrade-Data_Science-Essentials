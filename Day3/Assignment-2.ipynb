{
 "cells": [
  {
   "cell_type": "markdown",
   "metadata": {},
   "source": [
    "# Day-3 Assignment 2"
   ]
  },
  {
   "cell_type": "code",
   "execution_count": 1,
   "metadata": {},
   "outputs": [],
   "source": [
    "import numpy as np"
   ]
  },
  {
   "cell_type": "code",
   "execution_count": 2,
   "metadata": {},
   "outputs": [
    {
     "name": "stdout",
     "output_type": "stream",
     "text": [
      "12\n",
      "34\n",
      "23\n",
      "46\n",
      "54\n",
      " \n",
      "12\n",
      "32\n",
      "44\n",
      "11\n",
      "28\n",
      "[[12 34 23 46 54]\n",
      " [12 32 44 11 28]]\n",
      "[[12 23 34 46 54]\n",
      " [11 12 28 32 44]]\n"
     ]
    }
   ],
   "source": [
    "list1=[]\n",
    "list2=[]\n",
    "n1=0\n",
    "n2=0\n",
    " \n",
    "while n1<5:\n",
    "    num1=int(input())\n",
    "    list1.append(num1)\n",
    "    n1 +=1\n",
    "print(\" \")\n",
    "while n2<5:\n",
    "    num2=int(input())\n",
    "    list2.append(num2)\n",
    "    n2 +=1\n",
    " \n",
    "#converting list1 and list2 to np array\n",
    "arr1=np.asarray(list1)\n",
    "arr2=np.asarray(list2)\n",
    " \n",
    "#concenating arr1 and arr2\n",
    "arr=np.asarray([arr1,arr2])\n",
    "print(arr)\n",
    " \n",
    "#sorting arr\n",
    "sort_arr=np.sort(arr)\n",
    "print(sort_arr)"
   ]
  }
 ],
 "metadata": {
  "kernelspec": {
   "display_name": "Python 3",
   "language": "python",
   "name": "python3"
  },
  "language_info": {
   "codemirror_mode": {
    "name": "ipython",
    "version": 3
   },
   "file_extension": ".py",
   "mimetype": "text/x-python",
   "name": "python",
   "nbconvert_exporter": "python",
   "pygments_lexer": "ipython3",
   "version": "3.8.5"
  },
  "varInspector": {
   "cols": {
    "lenName": 16,
    "lenType": 16,
    "lenVar": 40
   },
   "kernels_config": {
    "python": {
     "delete_cmd_postfix": "",
     "delete_cmd_prefix": "del ",
     "library": "var_list.py",
     "varRefreshCmd": "print(var_dic_list())"
    },
    "r": {
     "delete_cmd_postfix": ") ",
     "delete_cmd_prefix": "rm(",
     "library": "var_list.r",
     "varRefreshCmd": "cat(var_dic_list()) "
    }
   },
   "types_to_exclude": [
    "module",
    "function",
    "builtin_function_or_method",
    "instance",
    "_Feature"
   ],
   "window_display": false
  }
 },
 "nbformat": 4,
 "nbformat_minor": 4
}
